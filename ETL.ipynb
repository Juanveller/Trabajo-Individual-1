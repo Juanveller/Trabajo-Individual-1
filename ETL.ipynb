{
 "cells": [
  {
   "cell_type": "markdown",
   "metadata": {},
   "source": [
    "## ETL:\n",
    "#### 1- Extraccion archivo \"movies_dataset\""
   ]
  },
  {
   "cell_type": "code",
   "execution_count": null,
   "metadata": {},
   "outputs": [],
   "source": [
    "import pandas as pd\n",
    "\n",
    "# Cargamos el archivo\n",
    "movies_dataset_df = pd.read_csv(\"movies_dataset.csv\")\n",
    "\n",
    "# Realizamos una inspección inicial\n",
    "print(movies_dataset_df.info())  # Información general de las columnas y tipos de datos"
   ]
  },
  {
   "cell_type": "code",
   "execution_count": null,
   "metadata": {},
   "outputs": [],
   "source": [
    "movies_dataset_df.head()  # Primeras filas del DataFrame"
   ]
  },
  {
   "cell_type": "markdown",
   "metadata": {},
   "source": [
    "#### 1- Extraccion archivo \"credits\""
   ]
  },
  {
   "cell_type": "code",
   "execution_count": null,
   "metadata": {},
   "outputs": [],
   "source": [
    "# Cargamos el archivo\n",
    "credits_df = pd.read_csv(\"credits.csv\")\n",
    "\n",
    "# Realizamos una inspección inicial\n",
    "print(credits_df.info())  # Información general de las columnas y tipos de datos"
   ]
  },
  {
   "cell_type": "code",
   "execution_count": null,
   "metadata": {},
   "outputs": [],
   "source": [
    "credits_df.head()  # Primeras filas del DataFrame"
   ]
  },
  {
   "cell_type": "markdown",
   "metadata": {},
   "source": [
    "#### 2- Transformacion \"Movies_dataset\""
   ]
  },
  {
   "cell_type": "markdown",
   "metadata": {},
   "source": [
    "Comenzamos eliminando las columnas innecesarias para cumplir las solicitudes del cliente"
   ]
  },
  {
   "cell_type": "code",
   "execution_count": null,
   "metadata": {},
   "outputs": [],
   "source": [
    "# Eliminamos columnas innecesarias\n",
    "movies_dataset_df = movies_dataset_df.drop(columns=['video', 'imdb_id', 'adult', 'original_title', 'poster_path', 'homepage'])\n",
    "\n",
    "# Confirmamos la eliminación de las columnas\n",
    "print(movies_dataset_df.columns)"
   ]
  },
  {
   "cell_type": "markdown",
   "metadata": {},
   "source": [
    "Revisamos valores faltantes"
   ]
  },
  {
   "cell_type": "code",
   "execution_count": null,
   "metadata": {},
   "outputs": [],
   "source": [
    "# Revisamos los valores faltantes\n",
    "missing_values = movies_dataset_df.isnull().sum().sort_values(ascending=False) #recuento de valores nulos en orden descendente\n",
    "print(\"Valores faltantes por columna:\")\n",
    "print(missing_values)"
   ]
  },
  {
   "cell_type": "markdown",
   "metadata": {},
   "source": [
    "Creamos una columna retorno y rellenamos valores en columnas revenue y budget, segun requerimiento del cliente"
   ]
  },
  {
   "cell_type": "code",
   "execution_count": null,
   "metadata": {},
   "outputs": [],
   "source": [
    "# Rellenamos valores nulos en las columnas 'revenue' y 'budget' con 0\n",
    "movies_dataset_df['revenue'] = movies_dataset_df['revenue'].fillna(0)\n",
    "movies_dataset_df['budget'] = movies_dataset_df['budget'].fillna(0)\n",
    "\n",
    "# Confirmamos de que ya no hay valores nulos en 'revenue' y 'budget'\n",
    "print(\"Valores nulos en 'revenue':\", movies_dataset_df['revenue'].isnull().sum())\n",
    "print(\"Valores nulos en 'budget':\", movies_dataset_df['budget'].isnull().sum())"
   ]
  },
  {
   "cell_type": "code",
   "execution_count": null,
   "metadata": {},
   "outputs": [],
   "source": [
    "# Convertimos 'budget' y 'revenue' a numérico, reemplazando valores no convertibles por 0\n",
    "movies_dataset_df['budget'] = pd.to_numeric(movies_dataset_df['budget'], errors='coerce')\n",
    "movies_dataset_df['revenue'] = pd.to_numeric(movies_dataset_df['revenue'], errors='coerce')\n",
    "\n",
    "# Creamos la columna 'return' dividiendo 'revenue' entre 'budget'\n",
    "movies_dataset_df['return'] = movies_dataset_df.apply(lambda row: row['revenue'] / row['budget'] if row['budget'] > 0 else 0, axis=1)\n",
    "\n",
    "# Confirmamos la creación de la nueva columna\n",
    "print(movies_dataset_df[['revenue', 'budget', 'return']].head())"
   ]
  },
  {
   "cell_type": "markdown",
   "metadata": {},
   "source": [
    "Eliminamos nulos, transformamos fecha, en columna realese_date y creamos columna release_year"
   ]
  },
  {
   "cell_type": "code",
   "execution_count": null,
   "metadata": {},
   "outputs": [],
   "source": [
    "movies_dataset_df[\"release_date\"].isna().value_counts()"
   ]
  },
  {
   "cell_type": "code",
   "execution_count": null,
   "metadata": {},
   "outputs": [],
   "source": [
    "# Eliminamos filas con valores nulos en la columna 'release_date'\n",
    "movies_dataset_df = movies_dataset_df.dropna(subset=['release_date'])\n",
    "# Confirmamos la eliminación\n",
    "print(\"Valores nulos en 'release_date' después de la eliminación:\", movies_dataset_df['release_date'].isnull().sum())"
   ]
  },
  {
   "cell_type": "code",
   "execution_count": null,
   "metadata": {},
   "outputs": [],
   "source": [
    "# Convertimos 'release_date' al formato AAAA-mm-dd\n",
    "movies_dataset_df['release_date'] = pd.to_datetime(movies_dataset_df['release_date'], errors='coerce').dt.strftime('%Y-%m-%d')\n",
    "\n",
    "# Creamos la columna 'release_year' extrayendo solo el año\n",
    "movies_dataset_df['release_year'] = pd.to_datetime(movies_dataset_df['release_date'], errors='coerce').dt.year\n",
    "\n",
    "# Confirmamos los cambios\n",
    "print(movies_dataset_df[['release_date', 'release_year']].head())\n",
    "\n"
   ]
  },
  {
   "cell_type": "markdown",
   "metadata": {},
   "source": [
    "Desanidamos valores anidadodos de columnas \"belongs_to_collection\", 'production_companies',\"genres\",\"production_countries\",\"spoken_languages\" utilizando libreria ast. Dejando solo los valores que consideramos importantes para cumplir con lo solicitado por el cliente"
   ]
  },
  {
   "cell_type": "code",
   "execution_count": null,
   "metadata": {},
   "outputs": [],
   "source": [
    "movies_dataset_df[\"belongs_to_collection\"].head()"
   ]
  },
  {
   "cell_type": "code",
   "execution_count": null,
   "metadata": {},
   "outputs": [],
   "source": [
    "#Importamos la libreria ast (arboles de sintaxis abrstracta)\n",
    "import ast \n",
    "\n",
    "# Convertimos a diccionario y extraemos el nombre 'name' de la colección si existe\n",
    "movies_dataset_df['belongs_to_collection'] = movies_dataset_df['belongs_to_collection'].apply(\n",
    "    lambda x: ast.literal_eval(x).get('name') if pd.notnull(x) and isinstance(x, str) and x.startswith('{') else None)"
   ]
  },
  {
   "cell_type": "code",
   "execution_count": null,
   "metadata": {},
   "outputs": [],
   "source": [
    "movies_dataset_df[\"belongs_to_collection\"].head()"
   ]
  },
  {
   "cell_type": "code",
   "execution_count": null,
   "metadata": {},
   "outputs": [],
   "source": [
    "movies_dataset_df[\"production_companies\"].head()"
   ]
  },
  {
   "cell_type": "code",
   "execution_count": null,
   "metadata": {},
   "outputs": [],
   "source": [
    "# Extraemos los nombres de las compañías de producción\n",
    "movies_dataset_df['production_companies'] = movies_dataset_df['production_companies'].apply(\n",
    "    lambda x: [i['name'] for i in ast.literal_eval(x)] if pd.notnull(x) and isinstance(x, str) and x.startswith('[') else None\n",
    ")\n"
   ]
  },
  {
   "cell_type": "code",
   "execution_count": null,
   "metadata": {},
   "outputs": [],
   "source": [
    "movies_dataset_df[\"production_companies\"].head()"
   ]
  },
  {
   "cell_type": "code",
   "execution_count": null,
   "metadata": {},
   "outputs": [],
   "source": [
    "movies_dataset_df[\"genres\"].head()"
   ]
  },
  {
   "cell_type": "code",
   "execution_count": null,
   "metadata": {},
   "outputs": [],
   "source": [
    "# Extramos los nombres de la columna géneros\n",
    "movies_dataset_df['genres'] = movies_dataset_df['genres'].apply(\n",
    "    lambda x: [i['name'] for i in ast.literal_eval(x)] if pd.notnull(x) and isinstance(x, str) else None)"
   ]
  },
  {
   "cell_type": "code",
   "execution_count": null,
   "metadata": {},
   "outputs": [],
   "source": [
    "movies_dataset_df[\"genres\"].head()"
   ]
  },
  {
   "cell_type": "code",
   "execution_count": null,
   "metadata": {},
   "outputs": [],
   "source": [
    "movies_dataset_df[\"production_countries\"].head()"
   ]
  },
  {
   "cell_type": "code",
   "execution_count": null,
   "metadata": {},
   "outputs": [],
   "source": [
    "# Extraemos los nombres de las compañías de producción\n",
    "movies_dataset_df['production_countries'] = movies_dataset_df['production_countries'].apply(\n",
    "    lambda x: [i['name'] for i in ast.literal_eval(x)] if pd.notnull(x) and isinstance(x, str) and x.startswith('[') else None)"
   ]
  },
  {
   "cell_type": "code",
   "execution_count": null,
   "metadata": {},
   "outputs": [],
   "source": [
    "movies_dataset_df[\"production_countries\"].head(10)"
   ]
  },
  {
   "cell_type": "code",
   "execution_count": null,
   "metadata": {},
   "outputs": [],
   "source": [
    "movies_dataset_df[\"spoken_languages\"].head()"
   ]
  },
  {
   "cell_type": "code",
   "execution_count": null,
   "metadata": {},
   "outputs": [],
   "source": [
    "movies_dataset_df['spoken_languages'] = movies_dataset_df['spoken_languages'].apply(\n",
    "    lambda x: [i['name'] for i in ast.literal_eval(x)] if pd.notnull(x) and isinstance(x, str) and x.startswith('[') else None)"
   ]
  },
  {
   "cell_type": "code",
   "execution_count": null,
   "metadata": {},
   "outputs": [],
   "source": [
    "movies_dataset_df[\"spoken_languages\"].head()"
   ]
  },
  {
   "cell_type": "markdown",
   "metadata": {},
   "source": [
    "Revisamos nuevamente el Data Frame"
   ]
  },
  {
   "cell_type": "code",
   "execution_count": null,
   "metadata": {},
   "outputs": [],
   "source": [
    "movies_dataset_df"
   ]
  },
  {
   "cell_type": "markdown",
   "metadata": {},
   "source": [
    "Seleccionamos los 5 idiomas mas relevantes para cumplir con los requerimientos y que el archivo quede mas liviano"
   ]
  },
  {
   "cell_type": "code",
   "execution_count": null,
   "metadata": {},
   "outputs": [],
   "source": [
    "top_5_idiomas = movies_dataset_df[\"spoken_languages\"].value_counts()\n",
    "top_5_idiomas\n"
   ]
  },
  {
   "cell_type": "code",
   "execution_count": null,
   "metadata": {},
   "outputs": [],
   "source": [
    "# Define los idiomas deseados\n",
    "idiomas_deseados = ['English', 'Spanish', 'Français',\"Italiano\", 'Portuguese']\n",
    "\n",
    "# Filtra el dataframe para mantener solo las filas que contienen los idiomas deseados en 'spoken_languages'\n",
    "movies_dataset_df = movies_dataset_df[\n",
    "    movies_dataset_df['spoken_languages'].apply(lambda idiomas: any(idioma in idiomas_deseados for idioma in idiomas) if idiomas else False)\n",
    "]\n",
    "\n",
    "# Revisa el resultado\n",
    "movies_dataset_df\n"
   ]
  },
  {
   "cell_type": "markdown",
   "metadata": {},
   "source": [
    "eliminamos "
   ]
  },
  {
   "cell_type": "markdown",
   "metadata": {},
   "source": [
    "Nuevamente revisamos el dataframe y vemos que sigue habendo columnas que no serian necesarias para cumplir con los requerimientos por lo que procedemos a eliminarlas"
   ]
  },
  {
   "cell_type": "code",
   "execution_count": null,
   "metadata": {},
   "outputs": [],
   "source": [
    "#Revisamos las columnas esistentes en el dataframe\n",
    "print(movies_dataset_df.columns)"
   ]
  },
  {
   "cell_type": "code",
   "execution_count": null,
   "metadata": {},
   "outputs": [],
   "source": [
    "movies_dataset_df = movies_dataset_df.drop(columns=['overview', 'tagline', 'status', 'spoken_languages', 'original_language', 'popularity'])  "
   ]
  },
  {
   "cell_type": "markdown",
   "metadata": {},
   "source": [
    "#### 2- Transformacion \"credits\""
   ]
  },
  {
   "cell_type": "markdown",
   "metadata": {},
   "source": [
    "Visualizamos los datos"
   ]
  },
  {
   "cell_type": "code",
   "execution_count": null,
   "metadata": {},
   "outputs": [],
   "source": [
    "credits_df"
   ]
  },
  {
   "cell_type": "code",
   "execution_count": null,
   "metadata": {},
   "outputs": [],
   "source": [
    "credits_df[\"cast\"].head()"
   ]
  },
  {
   "cell_type": "markdown",
   "metadata": {},
   "source": [
    "Extraemos los datos necesarios de las dos columnas para cumplir con los requerimientos"
   ]
  },
  {
   "cell_type": "code",
   "execution_count": null,
   "metadata": {},
   "outputs": [],
   "source": [
    "#Importamos la libreria ast (arboles de sintaxis abstracta)\n",
    "import ast \n",
    "# Creamos una funcion para extraer solo 'character' y 'name' de la columna 'cast'\n",
    "def extraer_cast_info(cast_data):\n",
    "    try:\n",
    "        cast_list = ast.literal_eval(cast_data) # Intenta convertir de cadena a lista de diccionarios\n",
    "        return [{'character': person['character'], 'name': person['name']} for person in cast_list] #De poder hacerlo el paso anterior, extrae solo 'character' y 'name'\n",
    "    except (ValueError, TypeError):\n",
    "        return None # De no poder convertir a diccionario por error de valor o tipo devuelve None\n",
    "\n",
    "# Aplicamos la función al DF para crear una nueva columna 'cast_info'\n",
    "credits_df['cast_info'] = credits_df['cast'].apply(extraer_cast_info)"
   ]
  },
  {
   "cell_type": "code",
   "execution_count": null,
   "metadata": {},
   "outputs": [],
   "source": [
    "credits_df[\"cast_info\"].head()"
   ]
  },
  {
   "cell_type": "code",
   "execution_count": null,
   "metadata": {},
   "outputs": [],
   "source": [
    "# Creamos una unción para extraer sólo el nombre de los directores de la columna 'crew'\n",
    "def extraer_director_info(crew_data):\n",
    "    try:\n",
    "        crew_list = ast.literal_eval(crew_data)# Intenta convertir de cadena a lista de diccionarios\n",
    "        return [person['name'] for person in crew_list if person['job'] == 'Director'] #De poder hacerlo, filtra solo los directores y extrae sus nombres\n",
    "    except (ValueError, TypeError): # De no poder convertir a diccionario por error de valor o tipo devuelve None\n",
    "        return None\n",
    "\n",
    "# Aplicamos la función al DF para crear una nueva columna 'director_info'\n",
    "credits_df['director_info'] = credits_df['crew'].apply(extraer_director_info)"
   ]
  },
  {
   "cell_type": "code",
   "execution_count": null,
   "metadata": {},
   "outputs": [],
   "source": [
    "credits_df['director_info'].head()"
   ]
  },
  {
   "cell_type": "markdown",
   "metadata": {},
   "source": [
    "Limpiamos el data frame y dejamos solo las nuevas columnas con la informacion necesaria para las funciones"
   ]
  },
  {
   "cell_type": "code",
   "execution_count": null,
   "metadata": {},
   "outputs": [],
   "source": [
    "credits_df.drop(columns=[\"cast\",\"crew\"],inplace=True)"
   ]
  },
  {
   "cell_type": "code",
   "execution_count": null,
   "metadata": {},
   "outputs": [],
   "source": [
    "credits_df"
   ]
  },
  {
   "cell_type": "markdown",
   "metadata": {},
   "source": [
    "Concatenamos los dos data frame"
   ]
  },
  {
   "cell_type": "code",
   "execution_count": null,
   "metadata": {},
   "outputs": [],
   "source": [
    "Df_limpio = pd.concat([movies_dataset_df,credits_df],axis=1)"
   ]
  },
  {
   "cell_type": "markdown",
   "metadata": {},
   "source": [
    "Guardamos el Df en un nuevo archivo \"DF_final.csv\""
   ]
  },
  {
   "cell_type": "code",
   "execution_count": null,
   "metadata": {},
   "outputs": [],
   "source": [
    "Df_limpio.to_csv(\"DF_final.csv\",index=False)"
   ]
  }
 ],
 "metadata": {
  "kernelspec": {
   "display_name": "Python 3",
   "language": "python",
   "name": "python3"
  },
  "language_info": {
   "codemirror_mode": {
    "name": "ipython",
    "version": 3
   },
   "file_extension": ".py",
   "mimetype": "text/x-python",
   "name": "python",
   "nbconvert_exporter": "python",
   "pygments_lexer": "ipython3",
   "version": "3.12.4"
  }
 },
 "nbformat": 4,
 "nbformat_minor": 2
}
